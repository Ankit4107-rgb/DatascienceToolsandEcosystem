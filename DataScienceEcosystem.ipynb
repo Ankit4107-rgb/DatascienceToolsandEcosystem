{
  "metadata": {
    "kernelspec": {
      "name": "python",
      "display_name": "Python (Pyodide)",
      "language": "python"
    },
    "language_info": {
      "codemirror_mode": {
        "name": "python",
        "version": 3
      },
      "file_extension": ".py",
      "mimetype": "text/x-python",
      "name": "python",
      "nbconvert_exporter": "python",
      "pygments_lexer": "ipython3",
      "version": "3.8"
    }
  },
  "nbformat_minor": 5,
  "nbformat": 4,
  "cells": [
    {
      "id": "cf33beca-2bf8-4424-9975-da397b5c8d06",
      "cell_type": "markdown",
      "source": "# Data Science Tools and Ecosystem",
      "metadata": {}
    },
    {
      "id": "cf83dae9-156a-4a42-a7b7-57d2ef395088",
      "cell_type": "markdown",
      "source": "## Exercise 3 - Introduction\nIn this notebook, Data Science Tools and Ecosystem are summarized.",
      "metadata": {}
    },
    {
      "id": "da848258-495f-447f-ad12-1de163dfb960",
      "cell_type": "markdown",
      "source": "## Exercise 4 - List of Data Science Languages\nSome of the popular languages that Data Scientists use are:\n1. Python\n2. R\n3. SQL\n4. Julia\n5. Scala",
      "metadata": {}
    },
    {
      "id": "c8451948-d8a1-4233-9f91-c7be0c95ebd4",
      "cell_type": "markdown",
      "source": "## Exercise 5 - List of Data Science Libraries\nSome of the commonly used libraries used by Data Scientists include:\n1. NumPy\n2. Pandas\n3. Matplotlib\n4. Scikit-learn\n5. TensorFlow",
      "metadata": {}
    },
    {
      "id": "6f8b32cd-2f5f-4402-8a4a-c9cdc94263ba",
      "cell_type": "markdown",
      "source": "| Data Science Tools |\n|--------------------|\n| Jupyter Notebook  |\n| RStudio           |\n| Apache Spark      |\n| TensorFlow        |\n| Tableau           |",
      "metadata": {}
    },
    {
      "id": "b9921198-942c-4619-ae04-bc2509eff589",
      "cell_type": "markdown",
      "source": "## Exercise 7 - Arithmetic Expression Examples\nBelow are a few examples of evaluating arithmetic expressions in Python.",
      "metadata": {}
    },
    {
      "id": "9c41b628-6bd3-4d55-b34c-22900db241d6",
      "cell_type": "code",
      "source": "## Exercise 8 - Multiply and Add Numbers\n# This is a simple arithmetic expression to multiply then add integers.\nmultiply_add = (3 * 4) + 5\nmultiply_add\n",
      "metadata": {
        "trusted": true
      },
      "outputs": [
        {
          "execution_count": 13,
          "output_type": "execute_result",
          "data": {
            "text/plain": "17"
          },
          "metadata": {}
        }
      ],
      "execution_count": 13
    },
    {
      "id": "430504eb-fa6c-411a-acc3-fae0f417e938",
      "cell_type": "code",
      "source": "## Exercise 9 - Convert Minutes to Hours\n# This will convert 200 minutes to hours by dividing by 60.\nminutes = 200\nhours = minutes / 60\nhours",
      "metadata": {
        "trusted": true
      },
      "outputs": [
        {
          "execution_count": 12,
          "output_type": "execute_result",
          "data": {
            "text/plain": "3.3333333333333335"
          },
          "metadata": {}
        }
      ],
      "execution_count": 12
    },
    {
      "id": "e2b39012-596c-4c89-90f2-76cbc2a1dc0c",
      "cell_type": "markdown",
      "source": "## Exercise 10 - List of Objectives\n# Objectives:\n* List popular languages for Data Science \n* Identify commonly used libraries in Data Science \n* Present a table of Data Science tools \n* Perform basic arithmetic operations \n* Convert time units from minutes to hours ",
      "metadata": {}
    },
    {
      "id": "a08828d4-3031-4249-90f3-32d98d92f6d1",
      "cell_type": "markdown",
      "source": "## Exercise 11 - Author’s Name\n#  Author \nAnkit Prasad\n",
      "metadata": {}
    },
    {
      "id": "14519be6-fa22-4d14-916f-18c1ba4eb1d8",
      "cell_type": "code",
      "source": "",
      "metadata": {
        "trusted": true
      },
      "outputs": [],
      "execution_count": null
    }
  ]
}